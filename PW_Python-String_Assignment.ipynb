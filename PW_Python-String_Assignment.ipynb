{
 "cells": [
  {
   "cell_type": "code",
   "execution_count": null,
   "id": "b8eff6af-14f0-42c4-a26c-19010c977eb6",
   "metadata": {},
   "outputs": [],
   "source": [
    "#Q1.How can we store a s1ngle quote (‘) as a str1ng 1n a var1able?\n",
    "#Answer;\n",
    "\n",
    "To store a single quote (') as a string in a variable in Python, you can use one of the following methods:\n",
    "\n",
    "Escape Character: You can use a backslash \\ before the single quote to escape it within the string.\n",
    "\n",
    "my_variable = 'This is a single quote: \\''\n",
    "Use Double Quotes: You can use double quotes \" to define the string containing a single quote.\n",
    "\n",
    "my_variable = \"This is a single quote: '\"\n",
    "Use Triple Quotes: Triple quotes ''' or \"\"\" can also be used to define strings that contain single quotes.\n",
    "\n",
    "my_variable = '''This is a single quote: ' '''"
   ]
  },
  {
   "cell_type": "code",
   "execution_count": null,
   "id": "8a6cacee-fd6d-4d4e-af5b-f0a1beef4ad5",
   "metadata": {},
   "outputs": [],
   "source": [
    "# Q2. Refer the below var1able:\n",
    "x = ‘a(\n",
    "Here, 1s x a character type or str1ng type var1able? Support your answer w1th an explanat1on.\n",
    "#Answer;\n",
    "    \n",
    "'''Quotation Marks: The variable x is enclosed within curly single quotes (‘ and ’), which typically indicate a string literal in Python. These quotes are not valid for defining a character literal, as character literals are not explicitly supported in Python as they are in some other programming languages like C or Java.\n",
    "\n",
    "Content: The content within the quotes is more than a single character. It's a sequence of characters (‘a(), suggesting it's likely intended to be a string rather than a single character.\n",
    "\n",
    "Assignment: The value ‘a( is assigned to the variable x using the = operator, which is how strings are assigned to variables in Python.'''"
   ]
  },
  {
   "cell_type": "code",
   "execution_count": 2,
   "id": "e0dfee78-a5a8-4ecd-80d1-927b38a593f3",
   "metadata": {},
   "outputs": [
    {
     "name": "stdout",
     "output_type": "stream",
     "text": [
      "Index of 'Python': 11\n",
      "Count of 'o': 6\n",
      "Length of the string: 35\n",
      "Concatenated string: Welcome to Python foundation course - Advanced\n"
     ]
    }
   ],
   "source": [
    "'''Q3. Apply the follow1ng funct1ons on th1s var1able: ‘Welcome to Python foun at1on course'\n",
    "SP f1n (0\n",
    ".P count(0\n",
    "?P len(0\n",
    "P Concatenat1on\n",
    "Note: You can use your cho1ce of parametersQ But make sure 1t 1s correct.'''\n",
    "#Answer;\n",
    "'''find(): Finds the first occurrence of a substring in the given string and returns its index. If the substring is not found, it returns -1.\n",
    "count(): Counts the occurrences of a substring in the given string.\n",
    "len(): Returns the length of the given string.\n",
    "Concatenation: Joining two strings together.\n",
    "Let's apply these functions to the given string: 'Welcome to Python foundation course'.'''\n",
    "\n",
    "# Given string\n",
    "string = 'Welcome to Python foundation course'\n",
    "\n",
    "# find()\n",
    "index = string.find('Python')\n",
    "print(\"Index of 'Python':\", index)\n",
    "\n",
    "# count()\n",
    "count = string.count('o')\n",
    "print(\"Count of 'o':\", count)\n",
    "\n",
    "# len()\n",
    "length = len(string)\n",
    "print(\"Length of the string:\", length)\n",
    "\n",
    "# Concatenation\n",
    "concatenated_string = string + ' - Advanced'\n",
    "print(\"Concatenated string:\", concatenated_string)\n"
   ]
  },
  {
   "cell_type": "code",
   "execution_count": 5,
   "id": "e213e67c-68b7-4876-9f64-e80998aeab8f",
   "metadata": {},
   "outputs": [
    {
     "name": "stdout",
     "output_type": "stream",
     "text": [
      "(a) Total number of alphabets in lowercase: 3\n",
      "(b) Total number of alphabets in uppercase: 3\n",
      "(c) Total number of numerical in string: 3\n"
     ]
    }
   ],
   "source": [
    "'''Q4. For the var1able: wor = ‘PanaJ1@T//56(\n",
    "Calculate the follow1ng:\n",
    "(a) Total number of alphabets 1n lowercase\n",
    "(b) Total number of alphabets 1n uppercase\n",
    "(c) Total number of numer1cal 1n str1ng'''\n",
    "#Answer;\n",
    "wor = 'PanaJ1@T//56('\n",
    "\n",
    "# Initialize counters\n",
    "lowercase_count = 0\n",
    "uppercase_count = 0\n",
    "numerical_count = 0\n",
    "\n",
    "# Loop through each character in the string\n",
    "for char in wor:\n",
    "    if char.islower():\n",
    "        lowercase_count += 1\n",
    "    elif char.isupper(): \n",
    "        uppercase_count += 1\n",
    "    elif char.isdigit(): \n",
    "        numerical_count += 1\n",
    "\n",
    "# Output the results\n",
    "print(\"(a) Total number of alphabets in lowercase:\", lowercase_count)\n",
    "print(\"(b) Total number of alphabets in uppercase:\", uppercase_count)\n",
    "print(\"(c) Total number of numerical in string:\", numerical_count)\n"
   ]
  },
  {
   "cell_type": "code",
   "execution_count": 7,
   "id": "49ed3a50-a578-4a5b-a227-976251902ed2",
   "metadata": {},
   "outputs": [
    {
     "name": "stdout",
     "output_type": "stream",
     "text": [
      "Original numerical value: 42\n",
      "Converted string value: 42\n"
     ]
    }
   ],
   "source": [
    "#Q5. Wr1te a co e to store a numer1cal value 1ns1 e a var1able then convert 1t 1nto str1ng.\n",
    "#Answer;\n",
    "\n",
    "numerical_value = 42\n",
    "\n",
    "# Convert the numerical value into a string\n",
    "numerical_string = str(numerical_value)\n",
    "\n",
    "print(\"Original numerical value:\", numerical_value)\n",
    "print(\"Converted string value:\", numerical_string)\n"
   ]
  },
  {
   "cell_type": "code",
   "execution_count": null,
   "id": "9174cfab-3724-41e9-8663-6ea60706d772",
   "metadata": {},
   "outputs": [],
   "source": []
  }
 ],
 "metadata": {
  "kernelspec": {
   "display_name": "Python 3 (ipykernel)",
   "language": "python",
   "name": "python3"
  },
  "language_info": {
   "codemirror_mode": {
    "name": "ipython",
    "version": 3
   },
   "file_extension": ".py",
   "mimetype": "text/x-python",
   "name": "python",
   "nbconvert_exporter": "python",
   "pygments_lexer": "ipython3",
   "version": "3.10.8"
  }
 },
 "nbformat": 4,
 "nbformat_minor": 5
}
